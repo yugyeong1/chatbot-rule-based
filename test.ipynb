{
 "cells": [
  {
   "cell_type": "code",
   "execution_count": 15,
   "metadata": {},
   "outputs": [],
   "source": [
    "import pandas as pd\n",
    "import random\n"
   ]
  },
  {
   "cell_type": "code",
   "execution_count": 16,
   "metadata": {},
   "outputs": [],
   "source": [
    "chatbot_data = pd.read_csv('data/alcohol_ment.csv')"
   ]
  },
  {
   "cell_type": "code",
   "execution_count": 89,
   "metadata": {},
   "outputs": [],
   "source": [
    "chatbot_data = chatbot_data.fillna(\" \")\n",
    "# rule의 데이터를 split 하여 list형태로 변환 후, index값과 함께 dictionary 형태로 저장 \n",
    "chat_dic = {} \n",
    "row = 0 \n",
    "for rule in chatbot_data['rule']: \n",
    "  chat_dic[row] = rule.split('|')\n",
    "  row += 1 \n",
    "\n",
    "chat = \"연초에\"\n",
    "\n",
    "result_df = pd.DataFrame(columns=[['title', 'first', 'last']])\n",
    "result_list = []\n",
    "\n",
    "\n",
    "for k, v in chat_dic.items():\n",
    "    chat_flag = False\n",
    "    for word in v:\n",
    "        if word in chat:\n",
    "            chat_flag = True\n",
    "            \n",
    "        else:\n",
    "            chat_flag = False\n",
    "        break\n",
    "    \n",
    "    if chat_flag:\n",
    "        # chatbot_data[['title', 'first', 'last']].iloc[k]\n",
    "        # print(chatbot_data[chatbot_data.index == k])\n",
    "        result_list.append(chatbot_data[chatbot_data.index == k])\n",
    "\n",
    "      "
   ]
  },
  {
   "cell_type": "code",
   "execution_count": 90,
   "metadata": {},
   "outputs": [
    {
     "data": {
      "text/plain": [
       "{'rule': {23: '연초'},\n",
       " 'title': {23: '올보기'},\n",
       " 'first': {23: '올해도 보람이 있고 기분 좋게 지냅시다'},\n",
       " 'last': {23: ' '},\n",
       " 'type': {23: 1}}"
      ]
     },
     "execution_count": 90,
     "metadata": {},
     "output_type": "execute_result"
    }
   ],
   "source": [
    "random_num = random.randint(0, len(result_list)-1)\n",
    "\n",
    "\n",
    "result_list[random_num].to_dict()"
   ]
  },
  {
   "cell_type": "code",
   "execution_count": 83,
   "metadata": {},
   "outputs": [],
   "source": [
    "key = list(result_list[random_num].to_dict()['title'].keys())[0]"
   ]
  },
  {
   "cell_type": "code",
   "execution_count": null,
   "metadata": {},
   "outputs": [
    {
     "data": {
      "text/plain": [
       "'의자왕'"
      ]
     },
     "metadata": {},
     "output_type": "display_data"
    }
   ],
   "source": [
    "result_list[random_num].to_dict()['title'].get(key)\n"
   ]
  },
  {
   "cell_type": "code",
   "execution_count": 87,
   "metadata": {},
   "outputs": [],
   "source": [
    "cheers_dict = {\"title\" :result_list[random_num].to_dict()['title'].get(key) , \n",
    "               \"first\" :result_list[random_num].to_dict()['first'].get(key),\n",
    "               \"last\" :result_list[random_num].to_dict()['last'].get(key)}"
   ]
  },
  {
   "cell_type": "code",
   "execution_count": 88,
   "metadata": {},
   "outputs": [
    {
     "data": {
      "text/plain": [
       "{'title': '의자왕', 'first': '의욕과 자신감을 가지고 왕창 돈 벌자', 'last': ' '}"
      ]
     },
     "execution_count": 88,
     "metadata": {},
     "output_type": "execute_result"
    }
   ],
   "source": [
    "cheers_dict"
   ]
  },
  {
   "cell_type": "code",
   "execution_count": null,
   "metadata": {},
   "outputs": [],
   "source": []
  }
 ],
 "metadata": {
  "kernelspec": {
   "display_name": "lambda39",
   "language": "python",
   "name": "python3"
  },
  "language_info": {
   "codemirror_mode": {
    "name": "ipython",
    "version": 3
   },
   "file_extension": ".py",
   "mimetype": "text/x-python",
   "name": "python",
   "nbconvert_exporter": "python",
   "pygments_lexer": "ipython3",
   "version": "3.9.15"
  },
  "orig_nbformat": 4
 },
 "nbformat": 4,
 "nbformat_minor": 2
}
