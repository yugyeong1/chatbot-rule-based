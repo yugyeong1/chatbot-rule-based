{
 "cells": [
  {
   "cell_type": "code",
   "execution_count": 15,
   "metadata": {},
   "outputs": [],
   "source": [
    "import pandas as pd\n",
    "import random\n"
   ]
  },
  {
   "cell_type": "code",
   "execution_count": 16,
   "metadata": {},
   "outputs": [],
   "source": [
    "chatbot_data = pd.read_csv('data/alcohol_ment.csv')"
   ]
  },
  {
   "cell_type": "code",
   "execution_count": 691,
   "metadata": {},
   "outputs": [],
   "source": [
    "chatbot_data = chatbot_data.fillna(\" \")"
   ]
  },
  {
   "cell_type": "code",
   "execution_count": 662,
   "metadata": {},
   "outputs": [
    {
     "name": "stdout",
     "output_type": "stream",
     "text": [
      "{0: ['회사', '회식'], 1: ['나는', '술'], 2: ['전문', '회사'], 3: ['기본'], 4: ['힘', '내'], 5: ['힘'], 6: ['주도'], 7: ['인생'], 8: ['응원'], 9: ['버티'], 10: ['미래'], 11: ['미래', '응원'], 12: ['청춘'], 13: ['기본'], 14: ['위로'], 15: ['재미'], 16: ['미래'], 17: ['목표', '달성'], 18: ['회식', '추천'], 19: ['수고'], 20: ['만취'], 21: ['오늘', '만취'], 22: ['골프'], 23: ['연초'], 24: ['연초'], 25: ['연초'], 26: ['연초'], 27: ['연말'], 28: ['연말'], 29: ['연말'], 30: ['처음'], 31: ['추천'], 32: ['재미'], 33: ['재미', '친구'], 34: ['직장', '회식'], 35: ['즐'], 36: ['월요일'], 37: ['올해', '응원'], 38: ['집', '몇'], 39: ['욕'], 40: ['골프'], 41: ['오붓'], 42: ['고딩'], 43: ['소방'], 44: ['미래'], 45: ['분위기', '띄'], 46: ['회식'], 47: ['늙'], 48: ['공무원'], 49: ['추천', '건'], 50: ['팀', '회식'], 51: ['회', '회식'], 52: ['아름', '회식'], 53: ['리더'], 54: ['횟집', '회식'], 55: ['내일'], 56: ['또', '만'], 57: ['신'], 58: ['취', '마'], 59: ['혼성'], 60: ['팀'], 61: ['쏜다'], 62: ['사랑'], 63: ['멋'], 64: ['우리'], 65: ['업무'], 66: ['멋', '밤'], 67: ['신'], 68: ['집'], 69: ['힘든'], 70: ['집', '안']}\n"
     ]
    }
   ],
   "source": [
    "# rule의 데이터를 split 하여 list형태로 변환 후, index값과 함께 dictionary 형태로 저장 \n",
    "chat_dic = {} \n",
    "row = 0 \n",
    "for rule in chatbot_data['rule']: \n",
    "  chat_dic[row] = rule.split('|')\n",
    "  row += 1 \n",
    "print(chat_dic)"
   ]
  },
  {
   "cell_type": "code",
   "execution_count": 663,
   "metadata": {},
   "outputs": [],
   "source": [
    "result_df = pd.DataFrame(columns=[['title', 'first', 'last']])\n",
    "result_list = []\n",
    "\n",
    "def chat(request):\n",
    "  for k, v in chat_dic.items():\n",
    "     chat_flag = False\n",
    "     for word in v:\n",
    "        if word in request:\n",
    "          print(k)\n",
    "          chat_flag = True\n",
    "        else:\n",
    "          chat_flag = False\n",
    "          break\n",
    "     if chat_flag:\n",
    "        result_list.append(chatbot_data[chatbot_data.index == k])\n",
    "        index = random.randint(0, len(result_list)-1 )\n",
    "\n",
    "        return result_list\n",
    "     \n",
    "  return \"다른 문장을 입력해주세요\""
   ]
  },
  {
   "cell_type": "code",
   "execution_count": 664,
   "metadata": {},
   "outputs": [
    {
     "name": "stdout",
     "output_type": "stream",
     "text": [
      "23\n"
     ]
    },
    {
     "data": {
      "text/plain": [
       "[   rule title                  first last  type\n",
       " 23   연초   올보기  올해도 보람이 있고 기분 좋게 지냅시다          1]"
      ]
     },
     "execution_count": 664,
     "metadata": {},
     "output_type": "execute_result"
    }
   ],
   "source": [
    "chat(\"연초\")"
   ]
  },
  {
   "cell_type": "code",
   "execution_count": 51,
   "metadata": {},
   "outputs": [
    {
     "name": "stdout",
     "output_type": "stream",
     "text": [
      "[]\n"
     ]
    }
   ],
   "source": [
    "# 이게 잘 된 버전\n",
    "chatbot_data = chatbot_data.fillna(\" \")\n",
    "# rule의 데이터를 split 하여 list형태로 변환 후, index값과 함께 dictionary 형태로 저장 \n",
    "chat_dic = {} \n",
    "row = 0 \n",
    "for rule in chatbot_data['rule']: \n",
    "  chat_dic[row] = rule.split('|')\n",
    "  row += 1 \n",
    "\n",
    "chat = \"골프\"\n",
    "\n",
    "# result_df = pd.DataFrame(columns=[['title', 'first', 'last']])\n",
    "result_list = []\n",
    "\n",
    "\n",
    "for k, v in chat_dic.items():\n",
    "    chat_flag = False\n",
    "    for word in v:\n",
    "        if word in chat:\n",
    "            chat_flag = True\n",
    "            \n",
    "        else:\n",
    "            chat_flag = False\n",
    "        break\n",
    "    \n",
    "    if chat_flag:\n",
    "        # chatbot_data[['title', 'first', 'last']].iloc[k]\n",
    "        # print(chatbot_data[chatbot_data.index == k])\n",
    "        result_list.append(chatbot_data[chatbot_data.index == k])\n",
    "\n",
    "        random_num = random.randint(0, len(result_list)-1)\n",
    "\n",
    "        print(result_list)\n",
    "\n",
    "        result_list[random_num]\n",
    "        # print( result_list[random_num] )\n",
    "\n",
    "    break\n",
    "\n",
    "\n",
    "      \n"
   ]
  },
  {
   "cell_type": "code",
   "execution_count": 26,
   "metadata": {},
   "outputs": [
    {
     "data": {
      "text/html": [
       "<div>\n",
       "<style scoped>\n",
       "    .dataframe tbody tr th:only-of-type {\n",
       "        vertical-align: middle;\n",
       "    }\n",
       "\n",
       "    .dataframe tbody tr th {\n",
       "        vertical-align: top;\n",
       "    }\n",
       "\n",
       "    .dataframe thead th {\n",
       "        text-align: right;\n",
       "    }\n",
       "</style>\n",
       "<table border=\"1\" class=\"dataframe\">\n",
       "  <thead>\n",
       "    <tr style=\"text-align: right;\">\n",
       "      <th></th>\n",
       "      <th>rule</th>\n",
       "      <th>title</th>\n",
       "      <th>first</th>\n",
       "      <th>last</th>\n",
       "      <th>type</th>\n",
       "    </tr>\n",
       "  </thead>\n",
       "  <tbody>\n",
       "    <tr>\n",
       "      <th>22</th>\n",
       "      <td>골프</td>\n",
       "      <td>원샷</td>\n",
       "      <td>원하는 방향과 샷 거리만큼</td>\n",
       "      <td></td>\n",
       "      <td>1</td>\n",
       "    </tr>\n",
       "  </tbody>\n",
       "</table>\n",
       "</div>"
      ],
      "text/plain": [
       "   rule title           first last  type\n",
       "22   골프    원샷  원하는 방향과 샷 거리만큼          1"
      ]
     },
     "execution_count": 26,
     "metadata": {},
     "output_type": "execute_result"
    }
   ],
   "source": [
    "random_num = random.randint(0, len(result_list)-1)\n",
    "\n",
    "result_list[random_num]"
   ]
  },
  {
   "cell_type": "code",
   "execution_count": 89,
   "metadata": {},
   "outputs": [],
   "source": [
    "# 이게 잘 된 버전\n",
    "chatbot_data = chatbot_data.fillna(\" \")\n",
    "# rule의 데이터를 split 하여 list형태로 변환 후, index값과 함께 dictionary 형태로 저장 \n",
    "chat_dic = {} \n",
    "row = 0 \n",
    "for rule in chatbot_data['rule']: \n",
    "  chat_dic[row] = rule.split('|')\n",
    "  row += 1 \n",
    "\n",
    "chat = \"연초에\"\n",
    "\n",
    "result_df = pd.DataFrame(columns=[['title', 'first', 'last']])\n",
    "result_list = []\n",
    "\n",
    "\n",
    "for k, v in chat_dic.items():\n",
    "    chat_flag = False\n",
    "    for word in v:\n",
    "        if word in chat:\n",
    "            chat_flag = True\n",
    "            \n",
    "        else:\n",
    "            chat_flag = False\n",
    "        break\n",
    "    \n",
    "    if chat_flag:\n",
    "        # chatbot_data[['title', 'first', 'last']].iloc[k]\n",
    "        # print(chatbot_data[chatbot_data.index == k])\n",
    "        result_list.append(chatbot_data[chatbot_data.index == k])\n",
    "\n",
    "      "
   ]
  },
  {
   "cell_type": "code",
   "execution_count": 90,
   "metadata": {},
   "outputs": [
    {
     "data": {
      "text/plain": [
       "{'rule': {23: '연초'},\n",
       " 'title': {23: '올보기'},\n",
       " 'first': {23: '올해도 보람이 있고 기분 좋게 지냅시다'},\n",
       " 'last': {23: ' '},\n",
       " 'type': {23: 1}}"
      ]
     },
     "execution_count": 90,
     "metadata": {},
     "output_type": "execute_result"
    }
   ],
   "source": [
    "random_num = random.randint(0, len(result_list)-1)\n",
    "\n",
    "\n",
    "result_list[random_num].to_dict()"
   ]
  },
  {
   "cell_type": "code",
   "execution_count": 83,
   "metadata": {},
   "outputs": [],
   "source": [
    "key = list(result_list[random_num].to_dict()['title'].keys())[0]"
   ]
  },
  {
   "cell_type": "code",
   "execution_count": null,
   "metadata": {},
   "outputs": [
    {
     "data": {
      "text/plain": [
       "'의자왕'"
      ]
     },
     "metadata": {},
     "output_type": "display_data"
    }
   ],
   "source": [
    "result_list[random_num].to_dict()['title'].get(key)\n"
   ]
  },
  {
   "cell_type": "code",
   "execution_count": 87,
   "metadata": {},
   "outputs": [],
   "source": [
    "cheers_dict = {\"title\" :result_list[random_num].to_dict()['title'].get(key) , \n",
    "               \"first\" :result_list[random_num].to_dict()['first'].get(key),\n",
    "               \"last\" :result_list[random_num].to_dict()['last'].get(key)}"
   ]
  },
  {
   "cell_type": "code",
   "execution_count": 88,
   "metadata": {},
   "outputs": [
    {
     "data": {
      "text/plain": [
       "{'title': '의자왕', 'first': '의욕과 자신감을 가지고 왕창 돈 벌자', 'last': ' '}"
      ]
     },
     "execution_count": 88,
     "metadata": {},
     "output_type": "execute_result"
    }
   ],
   "source": [
    "cheers_dict"
   ]
  },
  {
   "cell_type": "code",
   "execution_count": null,
   "metadata": {},
   "outputs": [],
   "source": []
  }
 ],
 "metadata": {
  "kernelspec": {
   "display_name": "lambda39",
   "language": "python",
   "name": "python3"
  },
  "language_info": {
   "codemirror_mode": {
    "name": "ipython",
    "version": 3
   },
   "file_extension": ".py",
   "mimetype": "text/x-python",
   "name": "python",
   "nbconvert_exporter": "python",
   "pygments_lexer": "ipython3",
   "version": "3.9.15"
  },
  "orig_nbformat": 4
 },
 "nbformat": 4,
 "nbformat_minor": 2
}
