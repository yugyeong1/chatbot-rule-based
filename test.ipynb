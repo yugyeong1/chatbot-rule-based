{
 "cells": [
  {
   "cell_type": "code",
   "execution_count": 182,
   "metadata": {},
   "outputs": [],
   "source": [
    "import pandas as pd\n",
    "import random\n"
   ]
  },
  {
   "cell_type": "code",
   "execution_count": 291,
   "metadata": {},
   "outputs": [],
   "source": [
    "chatbot_data = pd.read_csv('data/alcohol_ment.csv')"
   ]
  },
  {
   "cell_type": "code",
   "execution_count": 292,
   "metadata": {},
   "outputs": [
    {
     "data": {
      "text/html": [
       "<div>\n",
       "<style scoped>\n",
       "    .dataframe tbody tr th:only-of-type {\n",
       "        vertical-align: middle;\n",
       "    }\n",
       "\n",
       "    .dataframe tbody tr th {\n",
       "        vertical-align: top;\n",
       "    }\n",
       "\n",
       "    .dataframe thead th {\n",
       "        text-align: right;\n",
       "    }\n",
       "</style>\n",
       "<table border=\"1\" class=\"dataframe\">\n",
       "  <thead>\n",
       "    <tr style=\"text-align: right;\">\n",
       "      <th></th>\n",
       "      <th>rule</th>\n",
       "      <th>title</th>\n",
       "      <th>first</th>\n",
       "      <th>last</th>\n",
       "      <th>type</th>\n",
       "    </tr>\n",
       "  </thead>\n",
       "  <tbody>\n",
       "    <tr>\n",
       "      <th>0</th>\n",
       "      <td>회사|회식</td>\n",
       "      <td>사이다</td>\n",
       "      <td>사랑을 이 술잔에 가득담아 다 함께 원샷</td>\n",
       "      <td>NaN</td>\n",
       "      <td>1</td>\n",
       "    </tr>\n",
       "    <tr>\n",
       "      <th>1</th>\n",
       "      <td>나는|술</td>\n",
       "      <td>통통통</td>\n",
       "      <td>의사소통, 운수대통, 만사형통</td>\n",
       "      <td>NaN</td>\n",
       "      <td>1</td>\n",
       "    </tr>\n",
       "    <tr>\n",
       "      <th>2</th>\n",
       "      <td>전문|회사</td>\n",
       "      <td>주전자</td>\n",
       "      <td>주인답게 살고, 전문성을 갖추고, 자신감을 가지고 살자</td>\n",
       "      <td>NaN</td>\n",
       "      <td>1</td>\n",
       "    </tr>\n",
       "    <tr>\n",
       "      <th>3</th>\n",
       "      <td>기본</td>\n",
       "      <td>고사리</td>\n",
       "      <td>고맙습니다. 사랑합니다. 이해합니다.</td>\n",
       "      <td>NaN</td>\n",
       "      <td>1</td>\n",
       "    </tr>\n",
       "    <tr>\n",
       "      <th>4</th>\n",
       "      <td>힘|내</td>\n",
       "      <td>NaN</td>\n",
       "      <td>지금 바로</td>\n",
       "      <td>실행하자</td>\n",
       "      <td>2</td>\n",
       "    </tr>\n",
       "    <tr>\n",
       "      <th>...</th>\n",
       "      <td>...</td>\n",
       "      <td>...</td>\n",
       "      <td>...</td>\n",
       "      <td>...</td>\n",
       "      <td>...</td>\n",
       "    </tr>\n",
       "    <tr>\n",
       "      <th>66</th>\n",
       "      <td>멋|밤</td>\n",
       "      <td>여우야</td>\n",
       "      <td>여기서 우리의 멋진 야밤을 위하여!</td>\n",
       "      <td>NaN</td>\n",
       "      <td>1</td>\n",
       "    </tr>\n",
       "    <tr>\n",
       "      <th>67</th>\n",
       "      <td>신</td>\n",
       "      <td>맨붕</td>\n",
       "      <td>맨날 붕붕 뜨며 신나게 보냅시다!</td>\n",
       "      <td>NaN</td>\n",
       "      <td>1</td>\n",
       "    </tr>\n",
       "    <tr>\n",
       "      <th>68</th>\n",
       "      <td>집</td>\n",
       "      <td>9988, 234</td>\n",
       "      <td>99세까지 88하게 살다가 이삼일 후에 가자!</td>\n",
       "      <td>NaN</td>\n",
       "      <td>1</td>\n",
       "    </tr>\n",
       "    <tr>\n",
       "      <th>69</th>\n",
       "      <td>힘든</td>\n",
       "      <td>마취제</td>\n",
       "      <td>마시고 취하는 게 제일이다!</td>\n",
       "      <td>NaN</td>\n",
       "      <td>1</td>\n",
       "    </tr>\n",
       "    <tr>\n",
       "      <th>70</th>\n",
       "      <td>집|안</td>\n",
       "      <td>무취불귀</td>\n",
       "      <td>취하지 않으면 집에 갈 수 없다.</td>\n",
       "      <td>NaN</td>\n",
       "      <td>1</td>\n",
       "    </tr>\n",
       "  </tbody>\n",
       "</table>\n",
       "<p>71 rows × 5 columns</p>\n",
       "</div>"
      ],
      "text/plain": [
       "     rule      title                           first  last  type\n",
       "0   회사|회식        사이다          사랑을 이 술잔에 가득담아 다 함께 원샷   NaN     1\n",
       "1    나는|술        통통통                의사소통, 운수대통, 만사형통   NaN     1\n",
       "2   전문|회사        주전자  주인답게 살고, 전문성을 갖추고, 자신감을 가지고 살자   NaN     1\n",
       "3      기본        고사리            고맙습니다. 사랑합니다. 이해합니다.   NaN     1\n",
       "4     힘|내        NaN                           지금 바로  실행하자     2\n",
       "..    ...        ...                             ...   ...   ...\n",
       "66    멋|밤        여우야             여기서 우리의 멋진 야밤을 위하여!   NaN     1\n",
       "67      신         맨붕              맨날 붕붕 뜨며 신나게 보냅시다!   NaN     1\n",
       "68      집  9988, 234       99세까지 88하게 살다가 이삼일 후에 가자!   NaN     1\n",
       "69     힘든        마취제                 마시고 취하는 게 제일이다!   NaN     1\n",
       "70    집|안       무취불귀              취하지 않으면 집에 갈 수 없다.   NaN     1\n",
       "\n",
       "[71 rows x 5 columns]"
      ]
     },
     "execution_count": 292,
     "metadata": {},
     "output_type": "execute_result"
    }
   ],
   "source": [
    "chatbot_data"
   ]
  },
  {
   "cell_type": "code",
   "execution_count": 276,
   "metadata": {},
   "outputs": [
    {
     "name": "stdout",
     "output_type": "stream",
     "text": [
      "{0: ['회사', '회식'], 1: ['나는', '술'], 2: ['전문', '회사'], 3: ['기본'], 4: ['힘', '내'], 5: ['힘'], 6: ['주도'], 7: ['인생'], 8: ['응원'], 9: ['버티'], 10: ['미래'], 11: ['미래', '응원'], 12: ['청춘'], 13: ['기본'], 14: ['위로'], 15: ['재미'], 16: ['미래'], 17: ['목표', '달성'], 18: ['회식', '추천'], 19: ['수고'], 20: ['만취'], 21: ['오늘', '만취'], 22: ['골프'], 23: ['연초'], 24: ['연초'], 25: ['연초'], 26: ['연초'], 27: ['연말'], 28: ['연말'], 29: ['연말'], 30: ['처음'], 31: ['추천'], 32: ['재미'], 33: ['재미', '친구'], 34: ['직장', '회식'], 35: ['즐'], 36: ['월요일'], 37: ['올해', '응원'], 38: ['집', '몇'], 39: ['욕'], 40: ['골프'], 41: ['오붓'], 42: ['고딩'], 43: ['소방'], 44: ['미래'], 45: ['분위기', '띄'], 46: ['회식'], 47: ['늙'], 48: ['공무원'], 49: ['추천', '건'], 50: ['팀', '회식'], 51: ['회', '회식'], 52: ['아름', '회식'], 53: ['리더'], 54: ['횟집', '회식'], 55: ['내일'], 56: ['또', '만'], 57: ['신'], 58: ['취', '마'], 59: ['혼성'], 60: ['팀'], 61: ['쏜다'], 62: ['사랑'], 63: ['멋'], 64: ['우리'], 65: ['업무'], 66: ['멋', '밤'], 67: ['신'], 68: ['집'], 69: ['힘든'], 70: ['집', '안']}\n"
     ]
    }
   ],
   "source": [
    "# rule의 데이터를 split 하여 list형태로 변환 후, index값과 함께 dictionary 형태로 저장 \n",
    "chat_dic = {} \n",
    "row = 0 \n",
    "for rule in chatbot_data['rule']: \n",
    "  chat_dic[row] = rule.split('|')\n",
    "  row += 1 \n",
    "print(chat_dic)"
   ]
  },
  {
   "cell_type": "code",
   "execution_count": 293,
   "metadata": {},
   "outputs": [],
   "source": [
    "# rule의 데이터를 split 하여 list형태로 변환 후, index값과 함께 dictionary 형태로 저장 \n",
    "chat_dic = {} \n",
    "row = 0 \n",
    "for rule in chatbot_data['rule']: \n",
    "  chat_dic[row] = rule.split('|')\n",
    "  row += 1 \n",
    "\n",
    "def chat(request):\n",
    "  for k, v in chat_dic.items():\n",
    "     chat_flag = False\n",
    "     for word in v:\n",
    "        if word in request:\n",
    "          chat_flag = True\n",
    "        else:\n",
    "          chat_flag = False\n",
    "          break\n",
    "     if chat_flag:\n",
    "        num = random.randint(0, len(chatbot_data)-1)\n",
    "        return chatbot_data[['title', 'first', 'last']].iloc[num]\n",
    "     \n",
    "  return \"다른 문장을 입력해주세요\""
   ]
  },
  {
   "cell_type": "code",
   "execution_count": 295,
   "metadata": {},
   "outputs": [
    {
     "data": {
      "text/plain": [
       "title                    미사일\n",
       "first    미래를 위해 사랑을 위해 일을 위해\n",
       "last                     발사!\n",
       "Name: 16, dtype: object"
      ]
     },
     "execution_count": 295,
     "metadata": {},
     "output_type": "execute_result"
    }
   ],
   "source": [
    "chat(\"연초 행사인데 할만한거\")"
   ]
  },
  {
   "cell_type": "code",
   "execution_count": null,
   "metadata": {},
   "outputs": [],
   "source": []
  },
  {
   "cell_type": "code",
   "execution_count": null,
   "metadata": {},
   "outputs": [],
   "source": []
  }
 ],
 "metadata": {
  "kernelspec": {
   "display_name": "lambda39",
   "language": "python",
   "name": "python3"
  },
  "language_info": {
   "codemirror_mode": {
    "name": "ipython",
    "version": 3
   },
   "file_extension": ".py",
   "mimetype": "text/x-python",
   "name": "python",
   "nbconvert_exporter": "python",
   "pygments_lexer": "ipython3",
   "version": "3.9.15"
  },
  "orig_nbformat": 4
 },
 "nbformat": 4,
 "nbformat_minor": 2
}
