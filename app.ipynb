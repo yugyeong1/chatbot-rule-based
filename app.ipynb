{
 "cells": [
  {
   "cell_type": "code",
   "execution_count": 5,
   "metadata": {},
   "outputs": [],
   "source": [
    "import requests\n",
    "import json\n",
    "\n",
    "\n",
    "\n",
    "# kogpt REST API키값\n",
    "api_key = \"a60449fe814b40e4bfbd3be14b22a362\"\n",
    "\n",
    "def generate_summary(input_text, max_tokens=64, temperature=0.7, top_p=0.8):\n",
    "\n",
    "    \n",
    "    # API 요청 주소\n",
    "    url = \"https://api.kakaobrain.com/v1/inference/kogpt/generation\"\n",
    "\n",
    "    # API 요청 데이터\n",
    "    data = {\n",
    "        \"prompt\": input_text,\n",
    "        \"max_tokens\": 128,\n",
    "        \"top_p\":0.7\n",
    "        \n",
    "    }\n",
    "\n",
    "    # API 요청 헤더\n",
    "    headers = {\n",
    "            'Authorization': 'KakaoAK ' + api_key,\n",
    "            'Content-Type': 'application/json'\n",
    "    }\n",
    "\n",
    "    # API 요청 보내기\n",
    "    response = requests.post(url, headers=headers, data=json.dumps(data))\n",
    "\n",
    "    # API 응답 결과 파싱\n",
    "    result = json.loads(response.content.decode('utf-8'))\n",
    "\n",
    "\n",
    "    return result"
   ]
  },
  {
   "cell_type": "code",
   "execution_count": 6,
   "metadata": {},
   "outputs": [
    {
     "name": "stdout",
     "output_type": "stream",
     "text": [
      "{'id': 'ba8e4483-444f-4092-b93f-c4c902bbca47', 'generations': [{'text': ' 가을의 단풍나무도 아름답지만 겨울에 설경을 보기 위해 찾기도 한다. 그러나 가장 유명한 곳으로 꼽자면 역시 봄과 여름이다. 숲속의 공기가 맑아 머리까지 상쾌해지는 듯하며 나무마다 새싹들이 피어나 연둣빛 그늘로 가득하기 때문이다. 봄의 끝자락인 4월 중순부터 5월 초순이라면 북해도(北海道) 비에이와 후라노를 찾아보자. 홋카이도는 일본 내 최북단 섬이자 세계적 휴양지로 잘 알려져 있으며 관광 외에도 다양하고 흥미로운 체험활동 등 즐길거리가 많기로 정평 나있어 관광객들의 발길이', 'tokens': 128}], 'usage': {'prompt_tokens': 68, 'generated_tokens': 128, 'total_tokens': 196}}\n"
     ]
    }
   ],
   "source": [
    "input_text = \"봄은 동틀 무렵. 산 능선이 점점 하얗게 변하면서 조금씩 밝아지고, 그 위로 보랏빛 구름이 가늘게 떠 있는 풍경이 멋있다. 여름은 밤. 달이 뜨면 더할 나위 없이 좋고, 칠흑같이 어두운 밤에도 반딧불이가 반짝반짝 여기저기에서 날아다니는 광경이 근사하다.\"\n",
    "summary = generate_summary(input_text)\n",
    "print(summary)"
   ]
  },
  {
   "cell_type": "code",
   "execution_count": null,
   "metadata": {},
   "outputs": [],
   "source": []
  }
 ],
 "metadata": {
  "kernelspec": {
   "display_name": "lambda39",
   "language": "python",
   "name": "python3"
  },
  "language_info": {
   "codemirror_mode": {
    "name": "ipython",
    "version": 3
   },
   "file_extension": ".py",
   "mimetype": "text/x-python",
   "name": "python",
   "nbconvert_exporter": "python",
   "pygments_lexer": "ipython3",
   "version": "3.9.15"
  },
  "orig_nbformat": 4
 },
 "nbformat": 4,
 "nbformat_minor": 2
}
